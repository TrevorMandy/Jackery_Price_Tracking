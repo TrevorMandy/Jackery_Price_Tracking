{
 "cells": [
  {
   "cell_type": "code",
   "execution_count": 1,
   "id": "5aedf1f0",
   "metadata": {},
   "outputs": [],
   "source": [
    "import pandas as pd\n",
    "import requests\n",
    "from bs4 import BeautifulSoup\n",
    "from datetime import datetime\n",
    "import sqlite3"
   ]
  },
  {
   "cell_type": "code",
   "execution_count": 2,
   "id": "5816f66a",
   "metadata": {},
   "outputs": [],
   "source": [
    "url = \"https://www.jackery.com/collections/all\"\n",
    "response = requests.get(url)\n",
    "\n",
    "soup = BeautifulSoup(response.text, \"html.parser\")\n",
    "\n",
    "product_containers = soup.find_all(\"div\", class_=\"product-content-main\")\n",
    "\n",
    "product_names = []\n",
    "discounted_prices = []\n",
    "regular_prices = []\n",
    "dates = []\n",
    "\n",
    "for container in product_containers:\n",
    "    product_name_elem = container.find(\"div\", class_=\"product-title\")\n",
    "    product_name = product_name_elem.text.strip() if product_name_elem else \"Product Name Not Found\"\n",
    "    \n",
    "    discounted_price_elem = container.find(\"span\", class_=\"price--on-sale\")\n",
    "    discounted_price = discounted_price_elem.text.strip() if discounted_price_elem else None\n",
    "    \n",
    "    product_prices_elem = container.find(\"div\", class_=\"product-prices\")\n",
    "    span_tags = product_prices_elem.find_all(\"span\")\n",
    "    \n",
    "    if len(span_tags) == 2:\n",
    "        regular_price = span_tags[1].text.strip()\n",
    "    elif len(span_tags) == 1:\n",
    "        regular_price = span_tags[0].text.strip()\n",
    "    else:\n",
    "        regular_price = None\n",
    "    \n",
    "    product_names.append(product_name)\n",
    "    discounted_prices.append(discounted_price)\n",
    "    regular_prices.append(regular_price)\n",
    "    \n",
    "    current_date = datetime.now().strftime(\"%Y-%m-%d\")\n",
    "    dates.append(current_date)\n",
    "\n",
    "data = {\n",
    "    'Product Name': product_names,\n",
    "    'Discounted Price': discounted_prices,\n",
    "    'Regular Price': regular_prices,\n",
    "    'Date': dates\n",
    "}\n",
    "\n",
    "df = pd.DataFrame(data)"
   ]
  },
  {
   "cell_type": "code",
   "execution_count": 3,
   "id": "101e3b49",
   "metadata": {},
   "outputs": [],
   "source": [
    "conn = sqlite3.connect('jackery_prices.db')\n",
    "\n",
    "df.to_sql('product_prices', conn, if_exists='replace', index=False)\n",
    "\n",
    "conn.commit()\n",
    "conn.close()"
   ]
  },
  {
   "cell_type": "code",
   "execution_count": null,
   "id": "50a71559",
   "metadata": {},
   "outputs": [],
   "source": []
  }
 ],
 "metadata": {
  "kernelspec": {
   "display_name": "Python 3 (ipykernel)",
   "language": "python",
   "name": "python3"
  },
  "language_info": {
   "codemirror_mode": {
    "name": "ipython",
    "version": 3
   },
   "file_extension": ".py",
   "mimetype": "text/x-python",
   "name": "python",
   "nbconvert_exporter": "python",
   "pygments_lexer": "ipython3",
   "version": "3.9.7"
  }
 },
 "nbformat": 4,
 "nbformat_minor": 5
}
